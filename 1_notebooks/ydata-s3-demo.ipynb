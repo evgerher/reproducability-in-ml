{
 "cells": [
  {
   "cell_type": "code",
   "execution_count": null,
   "id": "70bcadac",
   "metadata": {},
   "outputs": [],
   "source": [
    "!pip install boto3"
   ]
  },
  {
   "cell_type": "markdown",
   "id": "9460e8ed",
   "metadata": {},
   "source": [
    "## S3 demo notebook\n",
    "\n",
    "- I have shared credentials with you, they can be found in locked zip file, password announced during lesson  \n",
    "- Before you run it, make sure you have proper credentials  \n",
    "- Credentials folder `~/.aws` (files `credentials` and `config` )  \n",
    "- Documentation https://docs.aws.amazon.com/cli/latest/userguide/cli-configure-quickstart.html  \n",
    "  - python library: `boto3`  \n",
    "  - CLI: `aws`  \n",
    "\n",
    "\n",
    "---\n",
    "It should look like this:\n",
    "\n",
    "`~/.aws/credentials`\n",
    "```\n",
    "[ydata-demo]\n",
    "  aws_access_key_id = XXXXXXXXXXXXXXXXXXXXXXXXX\n",
    "  aws_secret_access_key = YYYYYYYYYYYYYYYYYYYYYYYYYYYYYYYYYYYYYYYY\n",
    "```\n",
    "\n",
    "`~/.aws/config`\n",
    "```\n",
    "[ydata-demo]\n",
    "  region=ru-central1\n",
    "```"
   ]
  },
  {
   "cell_type": "markdown",
   "id": "1bd57a80",
   "metadata": {},
   "source": [
    "## Binary files\n",
    "\n",
    "Download remote or upload local"
   ]
  },
  {
   "cell_type": "code",
   "execution_count": 10,
   "id": "7ac4a321",
   "metadata": {},
   "outputs": [
    {
     "name": "stdout",
     "output_type": "stream",
     "text": [
      "Loaded from remote\n"
     ]
    }
   ],
   "source": [
    "import boto3\n",
    "from botocore.exceptions import ClientError\n",
    "import pickle\n",
    "\n",
    "session = boto3.session.Session(profile_name='ydata-demo')\n",
    "\n",
    "s3 = session.client(\n",
    "    service_name='s3',\n",
    "    endpoint_url='https://storage.yandexcloud.net',\n",
    ")\n",
    "\n",
    "cloud_fname = 'data/requirements.pkl'\n",
    "BUCKET_NAME = 'evgerher-ydata-demo'\n",
    "\n",
    "try:\n",
    "    # try to load from remote\n",
    "    cloud_obj = s3.get_object(Bucket=BUCKET_NAME, Key=fname)['Body'].read()\n",
    "    dependencies = pickle.loads(cloud_obj)['dependencies_str']\n",
    "    print('Loaded from remote')\n",
    "except ClientError as ex:\n",
    "    if ex.response['Error']['Code'] == 'NoSuchKey':\n",
    "        # compute locally\n",
    "        dependencies = \"\\n\".join(['pandas', 'numpy', 'matplotlib'])\n",
    "        with open('requirements.pkl', \"wb\") as fOut:\n",
    "            data = {\n",
    "                'dependencies_str': dependencies\n",
    "            }\n",
    "            pickle.dump(data, fOut, protocol=pickle.HIGHEST_PROTOCOL)\n",
    "        s3.upload_file('requirements.pkl', BUCKET_NAME, cloud_fname)\n",
    "        print('Made locally, uploaded to remote')\n",
    "    else:\n",
    "        raise ex"
   ]
  },
  {
   "cell_type": "markdown",
   "id": "89f6df9e",
   "metadata": {},
   "source": [
    "## Main methods\n",
    "\n",
    "- upload_file to bucket\n",
    "- download_file and save on filesystem\n",
    "- get_object (binary/text) and return as object\n",
    "- list_objects on a bucket"
   ]
  },
  {
   "cell_type": "code",
   "execution_count": 11,
   "id": "4ec6145b",
   "metadata": {},
   "outputs": [],
   "source": [
    "s3.upload_file('requirements.txt', BUCKET_NAME, 'data/requirements.txt')"
   ]
  },
  {
   "cell_type": "code",
   "execution_count": 19,
   "id": "ecd7b588",
   "metadata": {},
   "outputs": [
    {
     "name": "stdout",
     "output_type": "stream",
     "text": [
      "total 2576\r\n",
      "drwx------   6 evgerher  LD\\Domain Users     192 19 дек 01:17 \u001b[34m.\u001b[m\u001b[m\r\n",
      "drwxr-xr-x  15 evgerher  LD\\Domain Users     480 19 дек 01:17 \u001b[34m..\u001b[m\u001b[m\r\n",
      "-rw-r--r--   1 evgerher  LD\\Domain Users  193828 19 дек 01:17 dataset.zip\r\n",
      "-rw-rw-r--@  1 evgerher  LD\\Domain Users  142861 11 дек  2019 sampleSubmission.csv\r\n",
      "-rw-rw-r--@  1 evgerher  LD\\Domain Users  323856 11 дек  2019 test.csv\r\n",
      "-rw-rw-r--@  1 evgerher  LD\\Domain Users  648353 11 дек  2019 train.csv\r\n"
     ]
    }
   ],
   "source": [
    "s3.download_file(BUCKET_NAME, Key='data/bike-sharing-demand.zip', Filename='data/dataset.zip')\n",
    "!ls -la data/"
   ]
  },
  {
   "cell_type": "code",
   "execution_count": 12,
   "id": "12f0e26c",
   "metadata": {},
   "outputs": [
    {
     "name": "stdout",
     "output_type": "stream",
     "text": [
      "b'numpy\\npandas\\nmatplotlib\\nxgboost\\ncatboost\\nseaborn\\nscikit-learn'\n"
     ]
    }
   ],
   "source": [
    "get_object_response = s3.get_object(Bucket=BUCKET_NAME,Key='data/requirements.txt')\n",
    "print(get_object_response['Body'].read())"
   ]
  },
  {
   "cell_type": "code",
   "execution_count": 20,
   "id": "72c70dde",
   "metadata": {},
   "outputs": [
    {
     "data": {
      "text/plain": [
       "{'ResponseMetadata': {'RequestId': 'af71d1de88a8235d',\n",
       "  'HostId': '',\n",
       "  'HTTPStatusCode': 200,\n",
       "  'HTTPHeaders': {'server': 'nginx',\n",
       "   'date': 'Mon, 19 Dec 2022 00:19:17 GMT',\n",
       "   'content-type': 'application/xml; charset=UTF-8',\n",
       "   'content-length': '1783',\n",
       "   'connection': 'keep-alive',\n",
       "   'keep-alive': 'timeout=60',\n",
       "   'x-amz-request-id': 'af71d1de88a8235d'},\n",
       "  'RetryAttempts': 0},\n",
       " 'IsTruncated': False,\n",
       " 'Marker': '',\n",
       " 'Contents': [{'Key': 'data/',\n",
       "   'LastModified': datetime.datetime(2022, 12, 16, 11, 29, 43, 31000, tzinfo=tzutc()),\n",
       "   'ETag': '\"d41d8cd98f00b204e9800998ecf8427e\"',\n",
       "   'Size': 0,\n",
       "   'StorageClass': 'STANDARD',\n",
       "   'Owner': {'DisplayName': 'aje5epp0g909pf22lvb0',\n",
       "    'ID': 'aje5epp0g909pf22lvb0'}},\n",
       "  {'Key': 'data/bike-sharing-demand.zip',\n",
       "   'LastModified': datetime.datetime(2022, 12, 16, 12, 21, 38, 561000, tzinfo=tzutc()),\n",
       "   'ETag': '\"0e5eac483e2db79c852cc8ce941cfeb1\"',\n",
       "   'Size': 193828,\n",
       "   'StorageClass': 'STANDARD',\n",
       "   'Owner': {'DisplayName': 'aje5epp0g909pf22lvb0',\n",
       "    'ID': 'aje5epp0g909pf22lvb0'}},\n",
       "  {'Key': 'data/requirements.pkl',\n",
       "   'LastModified': datetime.datetime(2022, 12, 16, 13, 36, 4, 603000, tzinfo=tzutc()),\n",
       "   'ETag': '\"a0283049d2eaf8980844bcd7977f9baf\"',\n",
       "   'Size': 60,\n",
       "   'StorageClass': 'STANDARD',\n",
       "   'Owner': {'DisplayName': 'ajeg7gj343fvknsfj073',\n",
       "    'ID': 'ajeg7gj343fvknsfj073'}},\n",
       "  {'Key': 'data/requirements.txt',\n",
       "   'LastModified': datetime.datetime(2022, 12, 16, 13, 36, 21, 112000, tzinfo=tzutc()),\n",
       "   'ETag': '\"1004764ae5564bce08d84886869dfe27\"',\n",
       "   'Size': 61,\n",
       "   'StorageClass': 'STANDARD',\n",
       "   'Owner': {'DisplayName': 'ajeg7gj343fvknsfj073',\n",
       "    'ID': 'ajeg7gj343fvknsfj073'}},\n",
       "  {'Key': 'dvc/',\n",
       "   'LastModified': datetime.datetime(2022, 12, 16, 11, 29, 46, 263000, tzinfo=tzutc()),\n",
       "   'ETag': '\"d41d8cd98f00b204e9800998ecf8427e\"',\n",
       "   'Size': 0,\n",
       "   'StorageClass': 'STANDARD',\n",
       "   'Owner': {'DisplayName': 'aje5epp0g909pf22lvb0',\n",
       "    'ID': 'aje5epp0g909pf22lvb0'}}],\n",
       " 'Name': 'evgerher-ydata-demo',\n",
       " 'Prefix': '',\n",
       " 'MaxKeys': 1000,\n",
       " 'EncodingType': 'url'}"
      ]
     },
     "execution_count": 20,
     "metadata": {},
     "output_type": "execute_result"
    }
   ],
   "source": [
    "s3.list_objects(Bucket=BUCKET_NAME)"
   ]
  },
  {
   "cell_type": "code",
   "execution_count": null,
   "id": "93fdf0bc",
   "metadata": {},
   "outputs": [],
   "source": []
  }
 ],
 "metadata": {
  "kernelspec": {
   "display_name": "Python 3",
   "language": "python",
   "name": "python3"
  },
  "language_info": {
   "codemirror_mode": {
    "name": "ipython",
    "version": 3
   },
   "file_extension": ".py",
   "mimetype": "text/x-python",
   "name": "python",
   "nbconvert_exporter": "python",
   "pygments_lexer": "ipython3",
   "version": "3.8.8"
  }
 },
 "nbformat": 4,
 "nbformat_minor": 5
}
